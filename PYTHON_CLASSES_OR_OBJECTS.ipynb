{
  "cells": [
    {
      "cell_type": "markdown",
      "metadata": {
        "id": "YFwsp_sF4gPN"
      },
      "source": [
        "#Python Classes/Objects\n",
        "Python is an object oriented programming language ( OOP ).\n",
        "Almost everything in Python is an object, with its properties and methods.\n",
        "A Class is like an object constructor, or a \"blueprint\" for creating objects."
      ]
    },
    {
      "cell_type": "code",
      "execution_count": null,
      "metadata": {
        "colab": {
          "base_uri": "https://localhost:8080/"
        },
        "id": "CqAuQ7fS4-5C",
        "outputId": "b1a63543-52f4-4d8d-b707-0905f2177a2b"
      },
      "outputs": [
        {
          "name": "stdout",
          "output_type": "stream",
          "text": [
            "Hello Ankit 5\n"
          ]
        }
      ],
      "source": [
        "#Create Class\n",
        "class MyClass:\n",
        "    x = 5 # Indent this line to make it part of the class\n",
        "    print(\"Hello Ankit\",x)"
      ]
    },
    {
      "cell_type": "code",
      "execution_count": null,
      "metadata": {
        "colab": {
          "base_uri": "https://localhost:8080/"
        },
        "id": "XHE8LUNS5AoU",
        "outputId": "87bcc4a3-d41d-42c7-8310-4c95f7758305"
      },
      "outputs": [
        {
          "name": "stdout",
          "output_type": "stream",
          "text": [
            "5\n"
          ]
        }
      ],
      "source": [
        "#create object, Create an object named p1, and print the value of x:\n",
        "p1 = MyClass()\n",
        "print(p1.x)"
      ]
    },
    {
      "cell_type": "code",
      "execution_count": null,
      "metadata": {
        "colab": {
          "base_uri": "https://localhost:8080/"
        },
        "id": "WDx9DacQ5JNl",
        "outputId": "5ec6c1e1-92d8-48a2-a2fe-ab42ede0a28a"
      },
      "outputs": [
        {
          "name": "stdout",
          "output_type": "stream",
          "text": [
            "5\n",
            "<class '__main__.MyClass'>\n"
          ]
        }
      ],
      "source": [
        "y=MyClass()\n",
        "print(y.x)\n",
        "print(type(y))"
      ]
    },
    {
      "cell_type": "code",
      "execution_count": null,
      "metadata": {
        "colab": {
          "base_uri": "https://localhost:8080/"
        },
        "id": "vrGimtHn5f2r",
        "outputId": "e57fdb52-a8c2-427a-b473-24c96960dd68"
      },
      "outputs": [
        {
          "name": "stdout",
          "output_type": "stream",
          "text": [
            "Hello Amit\n",
            "<class '__main__.Students'>\n"
          ]
        }
      ],
      "source": [
        "class Students:\n",
        "    print(\"Hello Amit\")  # Indent this line to be part of the class\n",
        "z = Students()\n",
        "print(type(z))"
      ]
    },
    {
      "cell_type": "code",
      "execution_count": null,
      "metadata": {
        "colab": {
          "base_uri": "https://localhost:8080/"
        },
        "id": "-dQZwmVr5urc",
        "outputId": "8d25db3c-f1da-40e9-c5aa-cfc2895c871c"
      },
      "outputs": [
        {
          "name": "stdout",
          "output_type": "stream",
          "text": [
            "Hello, Welcome to OCAC\n"
          ]
        }
      ],
      "source": [
        "class Student:\n",
        "    def func(): # Indent this line to be part of the class\n",
        "        print(\"Hello, Welcome to OCAC\")\n",
        "\n",
        "Student.func()"
      ]
    },
    {
      "cell_type": "code",
      "execution_count": null,
      "metadata": {
        "colab": {
          "base_uri": "https://localhost:8080/"
        },
        "id": "8WiNO7-V57AK",
        "outputId": "d141a8cd-eb97-4944-f95c-62f91fa06056"
      },
      "outputs": [
        {
          "name": "stdout",
          "output_type": "stream",
          "text": [
            "Hello, Welcome to OCAC 2021\n"
          ]
        }
      ],
      "source": [
        "class Student:\n",
        "    year = 2021  # Indent this line to be part of the class definition\n",
        "\n",
        "    def func(self):\n",
        "        print(\"Hello, Welcome to OCAC\", self.year)\n",
        "\n",
        "x = Student()\n",
        "x.func()"
      ]
    },
    {
      "cell_type": "code",
      "execution_count": null,
      "metadata": {
        "colab": {
          "base_uri": "https://localhost:8080/",
          "height": 146
        },
        "id": "hmHqz1ip58nd",
        "outputId": "498db17a-f483-420d-dd80-f2a45f877d5f"
      },
      "outputs": [
        {
          "ename": "TypeError",
          "evalue": "Student.func() missing 1 required positional argument: 'self'",
          "output_type": "error",
          "traceback": [
            "\u001b[0;31m---------------------------------------------------------------------------\u001b[0m",
            "\u001b[0;31mTypeError\u001b[0m                                 Traceback (most recent call last)",
            "\u001b[0;32m<ipython-input-11-c8adef7bebfb>\u001b[0m in \u001b[0;36m<cell line: 1>\u001b[0;34m()\u001b[0m\n\u001b[0;32m----> 1\u001b[0;31m \u001b[0mStudent\u001b[0m\u001b[0;34m.\u001b[0m\u001b[0mfunc\u001b[0m\u001b[0;34m(\u001b[0m\u001b[0;34m)\u001b[0m\u001b[0;34m\u001b[0m\u001b[0;34m\u001b[0m\u001b[0m\n\u001b[0m",
            "\u001b[0;31mTypeError\u001b[0m: Student.func() missing 1 required positional argument: 'self'"
          ]
        }
      ],
      "source": [
        "Student.func()"
      ]
    },
    {
      "cell_type": "markdown",
      "metadata": {
        "id": "tWfKk4tK6JKp"
      },
      "source": [
        "#Class Object Attribute\n",
        "\n",
        "Note: The init() function is called\n",
        "automatically every time the class is\n",
        "being used to create a new object."
      ]
    },
    {
      "cell_type": "code",
      "execution_count": null,
      "metadata": {
        "colab": {
          "base_uri": "https://localhost:8080/"
        },
        "id": "lxS8SCCn6w3l",
        "outputId": "5a541b92-356a-49a8-8fa5-b6e3a15375b1"
      },
      "outputs": [
        {
          "name": "stdout",
          "output_type": "stream",
          "text": [
            "Hello my name is John\n"
          ]
        }
      ],
      "source": [
        "class Person:\n",
        "    def __init__(self, name, age):\n",
        "        self.name = name\n",
        "        self.age = age\n",
        "\n",
        "    def myfunc(self):\n",
        "        print(\"Hello my name is \" + self.name)\n",
        "\n",
        "p1 = Person(\"John\", 36)\n",
        "p1.myfunc() # Call the function using the correct name"
      ]
    },
    {
      "cell_type": "code",
      "execution_count": null,
      "metadata": {
        "colab": {
          "base_uri": "https://localhost:8080/"
        },
        "id": "KWiBqT1Z8plH",
        "outputId": "63e3f297-ea5b-4738-8962-1cc84c3f929a"
      },
      "outputs": [
        {
          "name": "stdout",
          "output_type": "stream",
          "text": [
            "Elon Musk!\n",
            "I am Champ\n"
          ]
        }
      ],
      "source": [
        "class Student:\n",
        "    def __init__(self,name):\n",
        "        self.name = name\n",
        "elon = Student(name='Elon Musk!')\n",
        "champ = Student(name=\"I am Champ\")\n",
        "print(elon.name)\n",
        "print(champ.name)"
      ]
    },
    {
      "cell_type": "code",
      "execution_count": null,
      "metadata": {
        "colab": {
          "base_uri": "https://localhost:8080/"
        },
        "id": "Qv5Y0oWI88EO",
        "outputId": "b1aeea41-cdbd-4f90-b597-68c212fe43e6"
      },
      "outputs": [
        {
          "name": "stdout",
          "output_type": "stream",
          "text": [
            "John\n",
            "36\n"
          ]
        }
      ],
      "source": [
        "class Person:\n",
        "    def __init__(self, name, age):\n",
        "\n",
        "        self.name = name\n",
        "        self.age = age\n",
        "p1 = Person(\"John\", 36)\n",
        "print(p1.name)\n",
        "print(p1.age)"
      ]
    },
    {
      "cell_type": "code",
      "execution_count": null,
      "metadata": {
        "colab": {
          "background_save": true
        },
        "id": "e_ZuY_ET8-Di",
        "outputId": "13fdfed0-416d-4dcb-baec-3ece3add2153"
      },
      "outputs": [
        {
          "ename": "IndentationError",
          "evalue": "expected an indented block after class definition on line 1 (<ipython-input-22-253fa36f960c>, line 2)",
          "output_type": "error",
          "traceback": [
            "\u001b[0;36m  File \u001b[0;32m\"<ipython-input-22-253fa36f960c>\"\u001b[0;36m, line \u001b[0;32m2\u001b[0m\n\u001b[0;31m    Total = 500 # Class variable\u001b[0m\n\u001b[0m    ^\u001b[0m\n\u001b[0;31mIndentationError\u001b[0m\u001b[0;31m:\u001b[0m expected an indented block after class definition on line 1\n"
          ]
        }
      ],
      "source": [
        "class Student:\n",
        "Total = 500 # Class variable\n",
        "def __init__(self, marks):\n",
        "self.marks = marks # Corrected the assignment\n",
        "print(\"Initialized...\")\n",
        "def findLoss(self):\n",
        "return self.Total - self.marks # Corrected the expression\n",
        "def findPercentage(self):\n",
        "return (self.marks / self.Total) * 100 # Corrected the expression\n",
        "a = Student(marks=458)\n",
        "print(\"Total Marks:\", a.Total)\n",
        "print('Lost Marks:', a.findLoss()) # Corrected the typo in the string\n",
        "print('Percentage is:', a.findPercentage())\n",
        "print('Percentage is: {:.2f}%'.format(a.findPercentage()))\n"
      ]
    }
  ],
  "metadata": {
    "colab": {
      "provenance": []
    },
    "kernelspec": {
      "display_name": "Python 3",
      "name": "python3"
    },
    "language_info": {
      "name": "python"
    }
  },
  "nbformat": 4,
  "nbformat_minor": 0
}